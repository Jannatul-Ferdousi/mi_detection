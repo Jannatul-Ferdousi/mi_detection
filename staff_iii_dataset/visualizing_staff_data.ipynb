{
 "cells": [
  {
   "cell_type": "code",
   "execution_count": 1,
   "metadata": {},
   "outputs": [],
   "source": [
    "from __future__ import print_function\n",
    "import numpy as np\n",
    "import torch\n",
    "import torch.nn as nn\n",
    "import torch.nn.functional as F\n",
    "import os\n",
    "import matplotlib.pyplot as plt\n",
    "plt.switch_backend('agg')\n",
    "import wfdb\n",
    "import time\n",
    "import random\n",
    "from sklearn.preprocessing import minmax_scale\n",
    "import sys\n",
    "import pandas\n",
    "from torch.utils.tensorboard import SummaryWriter"
   ]
  },
  {
   "cell_type": "code",
   "execution_count": 2,
   "metadata": {},
   "outputs": [],
   "source": [
    "# load real data (ptbdb)\n",
    "# with open('ptbdb_data/RECORDS') as fp:  \n",
    "#     lines = fp.readlines()\n",
    "with open('staff-iii-database-1.0.0/RECORDS') as fp:  \n",
    "    lines = fp.readlines()\n",
    "    \n",
    "lines = lines[:int(0.8*len(lines))]"
   ]
  },
  {
   "cell_type": "code",
   "execution_count": 3,
   "metadata": {},
   "outputs": [
    {
     "data": {
      "text/plain": [
       "['data/001a\\n',\n",
       " 'data/001b\\n',\n",
       " 'data/001c\\n',\n",
       " 'data/001d\\n',\n",
       " 'data/002a\\n',\n",
       " 'data/002b\\n',\n",
       " 'data/002c\\n',\n",
       " 'data/002d\\n',\n",
       " 'data/002e\\n',\n",
       " 'data/002f\\n']"
      ]
     },
     "execution_count": 3,
     "metadata": {},
     "output_type": "execute_result"
    }
   ],
   "source": [
    "lines[:10]"
   ]
  },
  {
   "cell_type": "code",
   "execution_count": 10,
   "metadata": {},
   "outputs": [
    {
     "data": {
      "text/plain": [
       "416"
      ]
     },
     "execution_count": 10,
     "metadata": {},
     "output_type": "execute_result"
    }
   ],
   "source": [
    "len(lines)"
   ]
  },
  {
   "cell_type": "code",
   "execution_count": 4,
   "metadata": {},
   "outputs": [
    {
     "name": "stderr",
     "output_type": "stream",
     "text": [
      "/mnt/project/grp_202/arjung2/anaconda3/envs/py27/lib/python2.7/site-packages/ipykernel_launcher.py:2: FutureWarning: Method .as_matrix will be removed in a future version. Use .values instead.\n",
      "  \n"
     ]
    }
   ],
   "source": [
    "df = pandas.read_excel('staff-iii-database-1.0.0/STAFF-III-Database-Annotations.xlsx')\n",
    "labels = df[u'Unnamed: 28'][8:].as_matrix()"
   ]
  },
  {
   "cell_type": "code",
   "execution_count": 5,
   "metadata": {},
   "outputs": [
    {
     "data": {
      "text/plain": [
       "u'anterior'"
      ]
     },
     "execution_count": 5,
     "metadata": {},
     "output_type": "execute_result"
    }
   ],
   "source": [
    "labels[85]"
   ]
  },
  {
   "cell_type": "code",
   "execution_count": 9,
   "metadata": {},
   "outputs": [
    {
     "name": "stdout",
     "output_type": "stream",
     "text": [
      "data/001c 1 no True\n",
      "data/005c 5 no True\n",
      "data/019c 19 no True\n",
      "data/019d 19 no True\n",
      "data/021d 21 inferior False\n",
      "data/022c 22 no True\n",
      "data/023c 23 no True\n",
      "data/026d 26 no True\n",
      "data/041a 41 no True\n",
      "data/048b 48 no True\n",
      "data/048c 48 no True\n",
      "data/051d 51 no True\n",
      "data/053e 53 no True\n",
      "data/063c 63 no True\n",
      "data/079d 79 no True\n",
      "data/080d 80 no True\n",
      "data/081c 81 anterior False\n"
     ]
    }
   ],
   "source": [
    "files_unhealthy, files_healthy = [], []\n",
    "\n",
    "for file_ in lines:\n",
    "        \n",
    "    patient_id = int(file_[5:8])\n",
    "        \n",
    "    '''\n",
    "    print(file_[:-1], patient_id, labels[patient_id], labels[patient_id] == \"no\")\n",
    "            \n",
    "    if labels[patient_id] == \"no\":\n",
    "        files_healthy.append(file_)\n",
    "    else:\n",
    "        files_unhealthy.append(file_)\n",
    "    '''\n",
    "        \n",
    "    file_name = file_[:-1]\n",
    "    data, _ = wfdb.rdsamp(\"staff-iii-database-1.0.0/\" + str(file_name))\n",
    "    data = np.array(data) # (300000, 9)\n",
    "\n",
    "    if np.isnan(np.sum(data)):\n",
    "        print(file_[:-1], patient_id, labels[patient_id], labels[patient_id] == \"no\")"
   ]
  },
  {
   "cell_type": "code",
   "execution_count": 16,
   "metadata": {},
   "outputs": [],
   "source": [
    "np.random.shuffle(files_unhealthy)\n",
    "np.random.shuffle(files_healthy)"
   ]
  },
  {
   "cell_type": "code",
   "execution_count": 17,
   "metadata": {},
   "outputs": [
    {
     "name": "stdout",
     "output_type": "stream",
     "text": [
      "['data/027a\\n', 'data/016a\\n', 'data/020c\\n', 'data/017e\\n', 'data/008a\\n', 'data/065b\\n', 'data/085a\\n', 'data/011f\\n', 'data/035c\\n', 'data/002e\\n']\n",
      "['data/032e\\n', 'data/083b\\n', 'data/070c\\n', 'data/031c\\n', 'data/072d\\n', 'data/079e\\n', 'data/033f\\n', 'data/031d\\n', 'data/030a\\n', 'data/023a\\n']\n"
     ]
    }
   ],
   "source": [
    "print(files_unhealthy[:10])\n",
    "print(files_healthy[:10])"
   ]
  },
  {
   "cell_type": "code",
   "execution_count": 18,
   "metadata": {},
   "outputs": [],
   "source": [
    "data_unhealthy = []\n",
    "for file in files_unhealthy:\n",
    "    data_v4, _ = wfdb.rdsamp(\"staff-iii-database-1.0.0/\" + file[:-1])\n",
    "    # data = [data_v4.flatten()]\n",
    "    data = (data_v4[:, 7]).flatten()\n",
    "    data_unhealthy.append(data)\n",
    "data_healthy = []\n",
    "for file in files_healthy:\n",
    "    data_v4, _ = wfdb.rdsamp(\"staff-iii-database-1.0.0/\" + file[:-1])\n",
    "    # data = [data_v4.flatten()]\n",
    "    data = (data_v4[:, 7]).flatten()\n",
    "    data_healthy.append(data)"
   ]
  },
  {
   "cell_type": "code",
   "execution_count": 20,
   "metadata": {},
   "outputs": [
    {
     "name": "stdout",
     "output_type": "stream",
     "text": [
      "(141,)\n",
      "(275,)\n",
      "141 275\n"
     ]
    }
   ],
   "source": [
    "data_unhealthy = np.asarray(data_unhealthy)\n",
    "data_healthy = np.asarray(data_healthy)\n",
    "\n",
    "print(data_unhealthy.shape)\n",
    "print(data_healthy.shape)\n",
    "\n",
    "num_unhealthy = (data_unhealthy.shape)[0]\n",
    "num_healthy = (data_healthy.shape)[0]\n",
    "\n",
    "print(num_unhealthy, num_healthy)"
   ]
  },
  {
   "cell_type": "code",
   "execution_count": 24,
   "metadata": {},
   "outputs": [
    {
     "data": {
      "text/plain": [
       "[<matplotlib.lines.Line2D at 0x7fcd88e4c5d0>]"
      ]
     },
     "execution_count": 24,
     "metadata": {},
     "output_type": "execute_result"
    },
    {
     "data": {
      "image/png": "[encoded data removed]",
      "text/plain": [
       "<Figure size 432x288 with 1 Axes>"
      ]
     },
     "metadata": {
      "needs_background": "light"
     },
     "output_type": "display_data"
    }
   ],
   "source": [
    "plt.plot(data_healthy[0][130000:140000])"
   ]
  },
  {
   "cell_type": "code",
   "execution_count": 25,
   "metadata": {},
   "outputs": [],
   "source": [
    "window_size = 10000\n",
    "\n",
    "def get_batch(batch_size, split='train'):\n",
    "    \n",
    "    unhealthy_threshold = int(0.8*num_unhealthy)\n",
    "    healthy_threshold = int(0.8*num_healthy)\n",
    "    \n",
    "    unhealthy_test_threshold = int(0.9*num_unhealthy)\n",
    "    healthy_test_threshold = int(0.9*num_healthy)\n",
    "    \n",
    "    if split == 'train':\n",
    "        unhealthy_indices = random.sample(np.arange(unhealthy_threshold), k=int(batch_size / 2))\n",
    "        healthy_indices = random.sample(np.arange(healthy_threshold), k=int(batch_size / 2))\n",
    "    elif split == 'val': \n",
    "        unhealthy_indices = random.sample(unhealthy_threshold + np.arange(unhealthy_test_threshold - unhealthy_threshold), k=int(batch_size / 2))\n",
    "        healthy_indices = random.sample(healthy_threshold + np.arange(healthy_test_threshold - healthy_threshold), k=int(batch_size / 2))\n",
    "    elif split == 'test':\n",
    "        unhealthy_indices = random.sample(unhealthy_test_threshold + np.arange(num_unhealthy - unhealthy_test_threshold), k=int(batch_size / 2))\n",
    "        healthy_indices = random.sample(healthy_test_threshold + np.arange(num_healthy - healthy_test_threshold), k=int(batch_size / 2))\n",
    "            \n",
    "    unhealthy_batch = data_unhealthy[unhealthy_indices]\n",
    "    healthy_batch = data_healthy[healthy_indices]\n",
    "    \n",
    "    batch_x = []\n",
    "    for sample in unhealthy_batch:\n",
    "        \n",
    "        start = random.choice(np.arange(len(sample) - window_size))\n",
    "        \n",
    "        # normalize\n",
    "        normalized_1 = minmax_scale(sample[start:start+window_size])\n",
    "        normalized = np.array(normalized_1)\n",
    "        \n",
    "        batch_x.append(normalized)\n",
    "        \n",
    "    for sample in healthy_batch:\n",
    "        \n",
    "        start = random.choice(np.arange(len(sample) - window_size))\n",
    "        \n",
    "        # normalize\n",
    "        normalized_1 = minmax_scale(sample[start:start+window_size])\n",
    "        normalized = np.array(normalized_1)\n",
    "        \n",
    "        batch_x.append(normalized)\n",
    "    \n",
    "    batch_y = [0 for _ in range(int(batch_size / 2))]\n",
    "    for _ in range(int(batch_size / 2)):\n",
    "        batch_y.append(1)\n",
    "        \n",
    "    indices = np.arange(len(batch_y))\n",
    "    np.random.shuffle(indices)\n",
    "    \n",
    "    batch_x = np.array(batch_x)\n",
    "    batch_y = np.array(batch_y)\n",
    "    \n",
    "    batch_x = batch_x[indices]\n",
    "    batch_y = batch_y[indices]\n",
    "    \n",
    "    batch_x = np.reshape(batch_x, (-1, 1, window_size))\n",
    "    batch_x = torch.from_numpy(batch_x)\n",
    "    batch_x = batch_x.float().cuda()\n",
    "    batch_x = batch_x.float()\n",
    "    \n",
    "    batch_y = np.reshape(batch_y, (-1, 1))\n",
    "    batch_y = torch.from_numpy(batch_y)\n",
    "    batch_y = batch_y.float().cuda()\n",
    "    batch_y = batch_y.float()\n",
    "    \n",
    "    return batch_x, batch_y"
   ]
  },
  {
   "cell_type": "code",
   "execution_count": 27,
   "metadata": {},
   "outputs": [],
   "source": [
    "batch_x, batch_y = get_batch(10, split='train')"
   ]
  },
  {
   "cell_type": "code",
   "execution_count": 28,
   "metadata": {},
   "outputs": [
    {
     "data": {
      "text/plain": [
       "torch.Size([10, 1, 10000])"
      ]
     },
     "execution_count": 28,
     "metadata": {},
     "output_type": "execute_result"
    }
   ],
   "source": [
    "batch_x.shape"
   ]
  },
  {
   "cell_type": "code",
   "execution_count": 29,
   "metadata": {},
   "outputs": [
    {
     "data": {
      "text/plain": [
       "tensor([[0.],\n",
       "        [1.],\n",
       "        [1.],\n",
       "        [0.],\n",
       "        [0.],\n",
       "        [0.],\n",
       "        [1.],\n",
       "        [0.],\n",
       "        [1.],\n",
       "        [1.]], device='cuda:0')"
      ]
     },
     "execution_count": 29,
     "metadata": {},
     "output_type": "execute_result"
    }
   ],
   "source": [
    "batch_y"
   ]
  },
  {
   "cell_type": "code",
   "execution_count": 35,
   "metadata": {},
   "outputs": [
    {
     "data": {
      "image/png": "[encoded data removed]",
      "text/plain": [
       "<Figure size 432x288 with 1 Axes>"
      ]
     },
     "metadata": {
      "needs_background": "light"
     },
     "output_type": "display_data"
    }
   ],
   "source": [
    "plt.plot(batch_x[7][0].cpu())\n",
    "plt.show()"
   ]
  },
  {
   "cell_type": "code",
   "execution_count": 36,
   "metadata": {},
   "outputs": [],
   "source": [
    "# load real data (ptbdb)\n",
    "with open('ptbdb_data/RECORDS') as fp:  \n",
    "    lines = fp.readlines()\n",
    "\n",
    "files_unhealthy, files_healthy = [], []\n",
    "\n",
    "for file in lines:\n",
    "    file_path = \"ptbdb_data/\" + file[:-1] + \".hea\"\n",
    "    \n",
    "    # read header to determine class\n",
    "    if 'Myocardial infarction' in open(file_path).read():\n",
    "        files_unhealthy.append(file)\n",
    "        \n",
    "    if 'Healthy control' in open(file_path).read():\n",
    "        files_healthy.append(file)\n",
    "\n",
    "# shuffle data (cross-validation)\n",
    "# np.random.seed(int(seed_num))\n",
    "np.random.shuffle(files_unhealthy)\n",
    "np.random.shuffle(files_healthy)\n",
    "        \n",
    "data_unhealthy = []\n",
    "for file in files_unhealthy:\n",
    "    data_v4, _ = wfdb.rdsamp(\"ptbdb_data/\" + file[:-1], channel_names=[str('i')])\n",
    "    data = data_v4.flatten()\n",
    "    data_unhealthy.append(data)\n",
    "data_healthy = []\n",
    "for file in files_healthy:\n",
    "    data_v4, _ = wfdb.rdsamp(\"ptbdb_data/\" + file[:-1], channel_names=[str('i')])\n",
    "    data = data_v4.flatten()\n",
    "    data_healthy.append(data)\n",
    "    \n",
    "\n",
    "\n",
    "data_unhealthy = np.asarray(data_unhealthy)\n",
    "data_healthy = np.asarray(data_healthy)\n",
    "\n",
    "num_unhealthy = (data_unhealthy.shape)[0]\n",
    "num_healthy = (data_healthy.shape)[0]"
   ]
  },
  {
   "cell_type": "code",
   "execution_count": 37,
   "metadata": {},
   "outputs": [],
   "source": [
    "batch_x, batch_y = get_batch(10, split='train')"
   ]
  },
  {
   "cell_type": "code",
   "execution_count": 38,
   "metadata": {},
   "outputs": [
    {
     "data": {
      "text/plain": [
       "torch.Size([10, 1, 10000])"
      ]
     },
     "execution_count": 38,
     "metadata": {},
     "output_type": "execute_result"
    }
   ],
   "source": [
    "batch_x.shape"
   ]
  },
  {
   "cell_type": "code",
   "execution_count": 39,
   "metadata": {},
   "outputs": [
    {
     "data": {
      "text/plain": [
       "tensor([[0.],\n",
       "        [1.],\n",
       "        [0.],\n",
       "        [0.],\n",
       "        [1.],\n",
       "        [0.],\n",
       "        [0.],\n",
       "        [1.],\n",
       "        [1.],\n",
       "        [1.]], device='cuda:0')"
      ]
     },
     "execution_count": 39,
     "metadata": {},
     "output_type": "execute_result"
    }
   ],
   "source": [
    "batch_y"
   ]
  },
  {
   "cell_type": "code",
   "execution_count": 43,
   "metadata": {},
   "outputs": [
    {
     "data": {
      "image/png": "[encoded data removed]",
      "text/plain": [
       "<Figure size 432x288 with 1 Axes>"
      ]
     },
     "metadata": {
      "needs_background": "light"
     },
     "output_type": "display_data"
    }
   ],
   "source": [
    "plt.plot(batch_x[2][0].cpu())\n",
    "plt.show()"
   ]
  },
  {
   "cell_type": "code",
   "execution_count": null,
   "metadata": {},
   "outputs": [],
   "source": []
  }
 ],
 "metadata": {
  "kernelspec": {
   "display_name": "py27",
   "language": "python",
   "name": "py27"
  },
  "language_info": {
   "codemirror_mode": {
    "name": "ipython",
    "version": 2
   },
   "file_extension": ".py",
   "mimetype": "text/x-python",
   "name": "python",
   "nbconvert_exporter": "python",
   "pygments_lexer": "ipython2",
   "version": "2.7.16"
  }
 },
 "nbformat": 4,
 "nbformat_minor": 2
}
